{
 "cells": [
  {
   "cell_type": "markdown",
   "id": "1237699a-8fef-4ea6-90de-dc7c33a47fed",
   "metadata": {},
   "source": [
    "# Ques 1) Basic NumPy Array"
   ]
  },
  {
   "cell_type": "markdown",
   "id": "b083d609-2fb9-4ef0-9f84-fa1a85695e96",
   "metadata": {},
   "source": [
    "**A) Reverse the NumPy array: arr = arr = np.array([1,2,3,6,4,5])**"
   ]
  },
  {
   "cell_type": "code",
   "execution_count": 1,
   "id": "0d653bb8-3b25-437f-804f-54adbfaa80cc",
   "metadata": {},
   "outputs": [
    {
     "data": {
      "text/plain": [
       "array([5, 4, 6, 3, 2, 1])"
      ]
     },
     "execution_count": 1,
     "metadata": {},
     "output_type": "execute_result"
    }
   ],
   "source": [
    "import numpy as np\n",
    "arr = np.array([1,2,3,6,4,5])\n",
    "arr = arr[::-1]\n",
    "arr"
   ]
  },
  {
   "cell_type": "markdown",
   "id": "6aca45d8-4b33-4eed-a229-0149bc04e126",
   "metadata": {},
   "source": [
    "**B) Flatten the NumPy arr: array1 = np.array([[1, 2, 3], [2, 4, 5], [1, 2, 3]]) \n",
    "using any two NumPy in-built methods**"
   ]
  },
  {
   "cell_type": "code",
   "execution_count": 7,
   "id": "7863679c-740b-4745-ac7d-2158d9c491e9",
   "metadata": {},
   "outputs": [
    {
     "name": "stdout",
     "output_type": "stream",
     "text": [
      "[1 2 3 2 4 5 1 2 3]\n",
      "[1 2 1 2 4 2 3 5 3]\n"
     ]
    }
   ],
   "source": [
    "array = np.array([[1,2,3],[2,4,5],[1,2,3]])\n",
    "flat_arr = array.flatten(order = 'C')\n",
    "flat_array = array.ravel(order = 'F')\n",
    "print(flat_arr)\n",
    "print(flat_array)"
   ]
  },
  {
   "cell_type": "markdown",
   "id": "30dae85e-4281-46a8-95fd-a898425e4e83",
   "metadata": {},
   "source": [
    "**C) Compare the following numpy arrays:\n",
    "np.array([1, 2, 3, 6, 4, 5])\n",
    "np.array([[1, 2, 3], [2, 4, 5], [1, 2, 3]])**"
   ]
  },
  {
   "cell_type": "code",
   "execution_count": 8,
   "id": "a061cf05-a8e8-4acb-9a2b-85be2520870d",
   "metadata": {},
   "outputs": [
    {
     "name": "stdout",
     "output_type": "stream",
     "text": [
      "[[ True  True]\n",
      " [ True  True]]\n"
     ]
    }
   ],
   "source": [
    "arr1 = np.array([[1, 2], [3, 4]])\n",
    "arr2 = np.array([[1, 2], [3, 4]])\n",
    "print(arr1 == arr2)"
   ]
  },
  {
   "cell_type": "markdown",
   "id": "999a0d85-96e1-4e4b-a428-7b32ee3d651a",
   "metadata": {},
   "source": [
    "**D) Find the most frequent value and their indice(s) in the following arrays:\n",
    "    x = np.array([1,2,3,4,5,1,2,1,1,1])\n",
    "    y = np.array([1,1,1,2,3,4,2,4,3,3])**"
   ]
  },
  {
   "cell_type": "code",
   "execution_count": 4,
   "id": "42a485d7-e6d8-42b2-a2df-9c418dae37c3",
   "metadata": {},
   "outputs": [
    {
     "name": "stdout",
     "output_type": "stream",
     "text": [
      "[0 5 7 8 9]\n",
      "1\n",
      "\n",
      "[0 1 2]\n",
      "1\n",
      "\n"
     ]
    }
   ],
   "source": [
    "x = np.array([1,2,3,4,5,1,2,1,1,1])\n",
    "values_x,counts_x = np.unique(x,return_counts=True)\n",
    "most_freq_x = values_x[np.argmax(counts_x)]\n",
    "indices = np.where(x == most_freq_x)[0]\n",
    "print(indices)\n",
    "print(most_freq_x)\n",
    "print()\n",
    "\n",
    "y = np.array([1,1,1,2,3,4,2,4,3,3,])\n",
    "values_y,counts_y = np.unique(y,return_counts=True)\n",
    "most_freq_y = values_y[np.argmax(counts_y)]\n",
    "indices = np.where(y == most_freq_y)[0]\n",
    "print(indices)\n",
    "print(most_freq_y)\n",
    "print()"
   ]
  },
  {
   "cell_type": "markdown",
   "id": "f0221d89-31c2-4c4c-9779-e7c47fcd8959",
   "metadata": {},
   "source": [
    "**E) For the array gfg = np.matrix('[4, 1, 9; 12, 3, 1; 4, 5, 6]')\n",
    "i. Sum of all elements\n",
    "ii. Sum of all elements row-wise\n",
    "iii. Sum of all elements column-wise**"
   ]
  },
  {
   "cell_type": "code",
   "execution_count": 12,
   "id": "ad39c22c-845c-4177-ac34-590ba8da010e",
   "metadata": {},
   "outputs": [
    {
     "name": "stdout",
     "output_type": "stream",
     "text": [
      "45\n",
      "\n",
      "[[14]\n",
      " [16]\n",
      " [15]]\n",
      "\n",
      "[[20  9 16]]\n",
      "\n"
     ]
    }
   ],
   "source": [
    "gfg = np.matrix('[4, 1, 9; 12, 3, 1; 4, 5, 6]')\n",
    "\n",
    "# Total Sum\n",
    "print(gfg.sum())\n",
    "print()\n",
    "\n",
    "# Row Wise Sum\n",
    "print(gfg.sum(axis=1))\n",
    "print()\n",
    "\n",
    "# Col Wise Sum\n",
    "print(gfg.sum(axis=0))\n",
    "print()"
   ]
  },
  {
   "cell_type": "markdown",
   "id": "13ce6f1f-2ba3-4f2a-b27e-1010b873b9f7",
   "metadata": {},
   "source": [
    "**F) For the matrix: n_array = np.array([[55, 25, 15],[30, 44, 2],[11, 45, 77]]), find\n",
    "i. Sum of diagonal elements\n",
    "ii. Eigen values of matrix\n",
    "iii. Eigen vectors of matrix\n",
    "iv. Inverse of matrix\n",
    "v. Determinant of matrix**"
   ]
  },
  {
   "cell_type": "code",
   "execution_count": 15,
   "id": "f2edb94f-b7b9-485f-83e6-69cfd1db456a",
   "metadata": {},
   "outputs": [
    {
     "name": "stdout",
     "output_type": "stream",
     "text": [
      "176\n",
      "\n",
      "[98.16835147 28.097044   49.73460452]\n",
      "\n",
      "EigResult(eigenvalues=array([98.16835147, 28.097044  , 49.73460452]), eigenvectors=array([[ 0.4574917 ,  0.34637121, -0.15017693],\n",
      "       [ 0.28447814, -0.72784061, -0.4852124 ],\n",
      "       [ 0.84248058,  0.59184038,  0.8614034 ]]))\n",
      "\n",
      "[[ 0.02404141 -0.00911212 -0.00444671]\n",
      " [-0.01667882  0.02966905  0.0024785 ]\n",
      " [ 0.00631287 -0.01603732  0.01217379]]\n",
      "\n",
      "137180.0000000001\n",
      "\n"
     ]
    }
   ],
   "source": [
    "n_array = np.array([[55, 25, 15],[30, 44, 2],[11, 45, 77]])\n",
    "\n",
    "# Sum of diagonals\n",
    "sumDiag = np.trace(n_array)\n",
    "print(sumDiag)\n",
    "print()\n",
    "\n",
    "# Eigen Values\n",
    "eigenValues = np.linalg.eigvals(n_array)\n",
    "print(eigenValues)\n",
    "print()\n",
    "\n",
    "# Eigen Vectors\n",
    "eigenVectors = np.linalg.eig(n_array)\n",
    "print(eigenVectors)\n",
    "print()\n",
    "\n",
    "#Inverse of Matrix\n",
    "invMat = np.linalg.inv(n_array)\n",
    "print(invMat)\n",
    "print()\n",
    "\n",
    "#Determinant of Matrix\n",
    "det = np.linalg.det(n_array)\n",
    "print(det)"
   ]
  },
  {
   "cell_type": "markdown",
   "id": "1611d66f-db2c-4af3-a976-bb6385d34a7b",
   "metadata": {},
   "source": [
    "**G) Multiply the following matrices and also find covariance between matrices using NumPy:\n",
    "i. p = [[1, 2], [2, 3]]\n",
    "   q = [[4, 5], [6, 7]]\n",
    "ii. p = [[1, 2], [2, 3], [4, 5]]\n",
    "    q = [[4, 5, 1], [6, 7, 2]]**"
   ]
  },
  {
   "cell_type": "code",
   "execution_count": 17,
   "id": "c3e6b0b3-6752-4820-ba51-f366e4425d10",
   "metadata": {},
   "outputs": [
    {
     "name": "stdout",
     "output_type": "stream",
     "text": [
      "[[16 19]\n",
      " [26 31]]\n",
      "\n",
      "[[0.66666667 1.        ]\n",
      " [1.         1.66666667]]\n",
      "\n",
      "\n",
      "\n",
      "[[16 19  5]\n",
      " [26 31  8]\n",
      " [46 55 14]]\n",
      "\n",
      "[[2.16666667 0.23333333]\n",
      " [0.23333333 5.36666667]]\n",
      "\n"
     ]
    }
   ],
   "source": [
    "p = np.array([[1, 2], [2, 3]])\n",
    "q = np.array([[4, 5], [6, 7]])\n",
    "\n",
    "# Multiplication of Matrix\n",
    "result = p @ q\n",
    "print(result)\n",
    "print()\n",
    "\n",
    "# Co-Variance\n",
    "coVar = np.cov(p.flatten(), q.flatten())\n",
    "print(coVar)\n",
    "print()\n",
    "\n",
    "print()\n",
    "print()\n",
    "\n",
    "p = np.array([[1, 2], [2, 3], [4, 5]])\n",
    "q = np.array([[4, 5, 1], [6, 7, 2]])\n",
    "\n",
    "# Multiplication of Matrix\n",
    "result = p @ q\n",
    "print(result)\n",
    "print()\n",
    "\n",
    "# Co-Variance\n",
    "coVar = np.cov(p.flatten(), q.flatten())\n",
    "print(coVar)\n",
    "print()"
   ]
  },
  {
   "cell_type": "markdown",
   "id": "4a029d07-959e-49f0-9f7d-a7eb1fcb3a39",
   "metadata": {},
   "source": [
    "**H) For the matrices: x = np.array([[2, 3, 4], [3, 2, 9]]); y = np.array([[1, 5, 0], [5, 10, 3]]), find inner, outer and cartesian product**"
   ]
  },
  {
   "cell_type": "code",
   "execution_count": 8,
   "id": "53868df4-aa19-4c6b-ba10-029f5efbdfa4",
   "metadata": {},
   "outputs": [
    {
     "name": "stdout",
     "output_type": "stream",
     "text": [
      "[[17 52]\n",
      " [13 62]]\n",
      "\n",
      "[[ 2 10  0 10 20  6]\n",
      " [ 3 15  0 15 30  9]\n",
      " [ 4 20  0 20 40 12]\n",
      " [ 3 15  0 15 30  9]\n",
      " [ 2 10  0 10 20  6]\n",
      " [ 9 45  0 45 90 27]]\n",
      "\n",
      "[[ 2  3  4  1  5  0]\n",
      " [ 2  3  4  5 10  3]\n",
      " [ 3  2  9  1  5  0]\n",
      " [ 3  2  9  5 10  3]]\n",
      "\n"
     ]
    }
   ],
   "source": [
    "x = np.array([[2, 3, 4], \n",
    "              [3, 2, 9]])\n",
    "y = np.array([[1, 5, 0], \n",
    "              [5, 10, 3]])\n",
    "\n",
    "# Inner Cartesian\n",
    "inner = np.inner(x, y)\n",
    "print(inner)\n",
    "print()\n",
    "\n",
    "# Outer Cartesian\n",
    "outer = np.outer(x, y)\n",
    "print(outer)\n",
    "print()\n",
    "\n",
    "# Cartesian\n",
    "from itertools import product\n",
    "cartesian = np.array([np.concatenate((a, b)) for a, b in product(x,y)])\n",
    "print(cartesian)\n",
    "print()"
   ]
  },
  {
   "cell_type": "markdown",
   "id": "94ff8aa8-bb89-4ae9-8a86-cd60c93c3864",
   "metadata": {},
   "source": [
    "# Ques 2) Based on NumPy Mathematics and Statistics"
   ]
  },
  {
   "cell_type": "markdown",
   "id": "75ddf1fe-4f33-4831-b220-a649b6b0cfa4",
   "metadata": {},
   "source": [
    "**(a) For the array: array = np.array([[1, -2, 3],[-4, 5, -6]])\n",
    "i. Find element-wise absolute value\n",
    "ii. Find the 25th, 50th, and 75th percentile of flattened array, for each column, for each\n",
    "row.\n",
    "iii. Mean, Median and Standard Deviation of flattened array, of each column, and\n",
    "each row**"
   ]
  },
  {
   "cell_type": "code",
   "execution_count": 3,
   "id": "1deecc05-e2fb-4d11-a8fd-a14db4331ba9",
   "metadata": {},
   "outputs": [
    {
     "name": "stdout",
     "output_type": "stream",
     "text": [
      "[[1 2 3]\n",
      " [4 5 6]]\n",
      "\n"
     ]
    }
   ],
   "source": [
    "array = np.array([[1, -2, 3],\n",
    "                  [-4, 5, -6]])\n",
    "\n",
    "# Element wise absolute value --- (i)\n",
    "abs_array = np.abs(array)\n",
    "print(abs_array)\n",
    "print()"
   ]
  },
  {
   "cell_type": "code",
   "execution_count": 4,
   "id": "1bd56ace-ffe6-445d-b2df-4dc4837319c1",
   "metadata": {},
   "outputs": [
    {
     "name": "stdout",
     "output_type": "stream",
     "text": [
      "-3.5\n",
      "-0.5\n",
      "2.5\n",
      "\n",
      "[-2.75 -0.25 -3.75]\n",
      "[-1.5  1.5 -1.5]\n",
      "[-0.25  3.25  0.75]\n",
      "\n",
      "[-0.5 -5. ]\n",
      "[ 1. -4.]\n",
      "[2.  0.5]\n",
      "\n"
     ]
    }
   ],
   "source": [
    "# For Flattened Array,for each column,for each row --- (ii)\n",
    "flat = array.flatten()\n",
    "\n",
    "# flat array \n",
    "p25_flat = np.percentile(flat,25)\n",
    "p50_flat = np.percentile(flat,50)\n",
    "p75_flat = np.percentile(flat,75)\n",
    "\n",
    "print(p25_flat)\n",
    "print(p50_flat)\n",
    "print(p75_flat)\n",
    "print()\n",
    "\n",
    "# Column Wise\n",
    "p25_col = np.percentile(array,25,axis=0)\n",
    "p50_col = np.percentile(array,50,axis=0)\n",
    "p75_col = np.percentile(array,75,axis=0)\n",
    "\n",
    "print(p25_col)\n",
    "print(p50_col)\n",
    "print(p75_col)\n",
    "print()\n",
    "\n",
    "# Row Wise\n",
    "p25_row = np.percentile(array,25,axis=1)\n",
    "p50_row = np.percentile(array,50,axis=1)\n",
    "p75_row = np.percentile(array,75,axis=1)\n",
    "\n",
    "print(p25_row)\n",
    "print(p50_row)\n",
    "print(p75_row)\n",
    "print()"
   ]
  },
  {
   "cell_type": "code",
   "execution_count": 5,
   "id": "0fae2f4d-c284-42cd-bdd2-15bdfe4022a2",
   "metadata": {},
   "outputs": [
    {
     "name": "stdout",
     "output_type": "stream",
     "text": [
      "-0.5\n",
      "-0.5\n",
      "3.8622100754188224\n",
      "\n",
      "[-1.5  1.5 -1.5]\n",
      "[-1.5  1.5 -1.5]\n",
      "[2.5 3.5 4.5]\n",
      "\n",
      "[ 0.66666667 -1.66666667]\n",
      "[ 1. -4.]\n",
      "[2.05480467 4.78423336]\n",
      "\n"
     ]
    }
   ],
   "source": [
    "# Mean, Median and Standard Deviation of flattened array, of each column, and each row --- (iii)\n",
    "# flat array\n",
    "mean_flat = np.mean(array)\n",
    "median_flat = np.median(array)\n",
    "std_flat = np.std(array)\n",
    "\n",
    "print(mean_flat)\n",
    "print(median_flat)\n",
    "print(std_flat)\n",
    "print()\n",
    "\n",
    "# Column Wise\n",
    "mean_col = np.mean(array, axis=0)\n",
    "median_col = np.median(array, axis=0)\n",
    "std_col = np.std(array, axis=0)\n",
    "\n",
    "print(mean_col)\n",
    "print(median_col)\n",
    "print(std_col)\n",
    "print()\n",
    "\n",
    "# Row Wise\n",
    "mean_row = np.mean(array, axis=1)\n",
    "median_row = np.median(array, axis=1)\n",
    "std_row = np.std(array, axis=1)\n",
    "\n",
    "print(mean_row)\n",
    "print(median_row)\n",
    "print(std_row)\n",
    "print()"
   ]
  },
  {
   "cell_type": "markdown",
   "id": "924870e5-e4a1-408f-9dfe-c32d3b9e7ac8",
   "metadata": {},
   "source": [
    "**(b) For the array: a = np.array([-1.8, -1.6, -0.5, 0.5,1.6, 1.8, 3.0]). Find floor, ceiling and truncated value, rounded values**"
   ]
  },
  {
   "cell_type": "code",
   "execution_count": 7,
   "id": "b08d4916-9f99-4075-bd1b-9d88fef2bc2c",
   "metadata": {},
   "outputs": [
    {
     "name": "stdout",
     "output_type": "stream",
     "text": [
      "[-2. -2. -1.  0.  1.  1.  3.]\n",
      "[-1. -1. -0.  1.  2.  2.  3.]\n",
      "[-1. -1. -0.  0.  1.  1.  3.]\n",
      "[-2. -2. -0.  0.  2.  2.  3.]\n"
     ]
    }
   ],
   "source": [
    "a = np.array([-1.8,-1.6,-0.5,0.5,1.6,1.8,3.0])\n",
    "\n",
    "A_floor = np.floor(a)\n",
    "A_ceiling = np.ceil(a)\n",
    "A_truncated = np.trunc(a)\n",
    "A_rounded = np.round(a)\n",
    "\n",
    "print(A_floor)\n",
    "print(A_ceiling)\n",
    "print(A_truncated)\n",
    "print(A_rounded)"
   ]
  },
  {
   "cell_type": "markdown",
   "id": "5d8e0bdd-5b70-4b67-9852-36cbabdd0118",
   "metadata": {},
   "source": [
    "# Ques 3) Based on Searching and Sorting"
   ]
  },
  {
   "cell_type": "markdown",
   "id": "07f0012e-41c1-4443-b3c4-87c5267095fe",
   "metadata": {},
   "source": [
    "**(a) For the array: array = np.array([10, 52, 62, 16, 16, 54, 453]),find\n",
    "i. Sorted array\n",
    "ii. Indices of sorted array\n",
    "iii. 4 smallest elements\n",
    "iv. 5 largest elements**"
   ]
  },
  {
   "cell_type": "code",
   "execution_count": 8,
   "id": "a37005c5-eb63-4c95-9a67-d3d0599c6aa7",
   "metadata": {},
   "outputs": [
    {
     "name": "stdout",
     "output_type": "stream",
     "text": [
      "[ 10  16  16  52  54  62 453]\n",
      "[0 3 4 1 5 2 6]\n",
      "[10 16 16 52]\n",
      "[ 16  52  54  62 453]\n"
     ]
    }
   ],
   "source": [
    "Arr = np.array([10,52,62,16,16,54,453])\n",
    "#(i)\n",
    "sorted_Arr = np.sort(Arr)\n",
    "print(sorted_Arr)\n",
    "\n",
    "#(ii)\n",
    "sorted_indices = np.argsort(Arr)\n",
    "print(sorted_indices)\n",
    "\n",
    "#(iii)\n",
    "smallest_4 = np.sort(Arr)[:4]\n",
    "print(smallest_4)\n",
    "\n",
    "#(iv)\n",
    "largest_5 = np.sort(Arr)[-5:]\n",
    "print(largest_5)"
   ]
  },
  {
   "cell_type": "markdown",
   "id": "f487e775-4791-4903-826b-e75350182336",
   "metadata": {},
   "source": [
    "**(b) For the array: array = np.array([1.0, 1.2, 2.2, 2.0, 3.0, 2.0]), find\n",
    "i. Integer elements only\n",
    "ii. Float elements only**"
   ]
  },
  {
   "cell_type": "code",
   "execution_count": 9,
   "id": "2eb14aaf-5eff-4b5f-b9d9-779b2e35163d",
   "metadata": {},
   "outputs": [
    {
     "name": "stdout",
     "output_type": "stream",
     "text": [
      "[1. 2. 3. 2.]\n",
      "[1.2 2.2]\n"
     ]
    }
   ],
   "source": [
    "Array = np.array([1.0,1.2,2.2,2.0,3.0,2.0])\n",
    "#(i)\n",
    "integer_only = Array[Array == Array.astype(int)]\n",
    "print(integer_only)\n",
    "\n",
    "#(ii)\n",
    "float_only = Array[Array != Array.astype(int)]\n",
    "print(float_only)"
   ]
  },
  {
   "cell_type": "markdown",
   "id": "87f828ad-142e-4003-a49f-fbea72f90589",
   "metadata": {},
   "source": [
    "# Ques 4) Based on Function to save Image"
   ]
  },
  {
   "cell_type": "markdown",
   "id": "880d567d-059c-4265-8b1d-56395a89cacc",
   "metadata": {},
   "source": [
    "**Write a function named img_to_array(path) that reads an image from a specified path and\n",
    "save it as text file on local machine? (Note: use separate cases for RGB and Grey Scale\n",
    "images)**"
   ]
  },
  {
   "cell_type": "code",
   "execution_count": 3,
   "id": "6a556a24-8f5c-4e72-bcfb-0fdfda9cf210",
   "metadata": {},
   "outputs": [
    {
     "name": "stdout",
     "output_type": "stream",
     "text": [
      "Unsupported image format or number of channels.\n"
     ]
    }
   ],
   "source": [
    "import cv2\n",
    "import os\n",
    "\n",
    "def img_to_array(path):\n",
    "    img = cv2.imread(path, cv2.IMREAD_UNCHANGED)\n",
    "    if img is None:\n",
    "        print(\"Error: Image not found or unable to read.\")\n",
    "        return\n",
    "\n",
    "    if len(img.shape) == 2:\n",
    "        print(\"Image is grayscale.\")\n",
    "\n",
    "        txt_filename = os.path.splitext(path)[0] + \"_grayscale.txt\"\n",
    "        np.savetxt(txt_filename,img,fmt='%d')\n",
    "        print(f\"Grayscale image saved as text file: {txt_filename}\")\n",
    "\n",
    "    elif len(img.shape) == 3 and img.shape[2] == 3:\n",
    "        print(\"Image is color (BGR).\")\n",
    "\n",
    "        img_rgb = cv2.cvtColor(img,cv2.COLOR_BGR2RGB)\n",
    "\n",
    "        txt_filename = os.path.splitext(path)[0] + \"_rgb.txt\"\n",
    "\n",
    "        reshaped = img_rgb.reshape(-1,3)\n",
    "        np.savetxt(txt_filename,reshaped,fmt='%d',header='R G B',comments='')\n",
    "        print(f\"RGB image saved as text file: {txt_filename}\")\n",
    "\n",
    "    else:\n",
    "        print(\"Unsupported image format or number of channels.\")\n",
    "\n",
    "img_to_array(\"network.png\")"
   ]
  }
 ],
 "metadata": {
  "kernelspec": {
   "display_name": "Python 3 (ipykernel)",
   "language": "python",
   "name": "python3"
  },
  "language_info": {
   "codemirror_mode": {
    "name": "ipython",
    "version": 3
   },
   "file_extension": ".py",
   "mimetype": "text/x-python",
   "name": "python",
   "nbconvert_exporter": "python",
   "pygments_lexer": "ipython3",
   "version": "3.9.6"
  },
  "widgets": {
   "application/vnd.jupyter.widget-state+json": {
    "state": {},
    "version_major": 2,
    "version_minor": 0
   }
  }
 },
 "nbformat": 4,
 "nbformat_minor": 5
}
